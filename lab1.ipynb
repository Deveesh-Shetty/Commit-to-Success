{
  "nbformat": 4,
  "nbformat_minor": 0,
  "metadata": {
    "colab": {
      "provenance": [],
      "authorship_tag": "ABX9TyOoDp/f+KFwsVTMCmNqur1b",
      "include_colab_link": true
    },
    "kernelspec": {
      "name": "python3",
      "display_name": "Python 3"
    },
    "language_info": {
      "name": "python"
    }
  },
  "cells": [
    {
      "cell_type": "markdown",
      "metadata": {
        "id": "view-in-github",
        "colab_type": "text"
      },
      "source": [
        "<a href=\"https://colab.research.google.com/github/likhith4/Commit-to-Success/blob/master/lab1.ipynb\" target=\"_parent\"><img src=\"https://colab.research.google.com/assets/colab-badge.svg\" alt=\"Open In Colab\"/></a>"
      ]
    },
    {
      "cell_type": "code",
      "execution_count": null,
      "metadata": {
        "colab": {
          "base_uri": "https://localhost:8080/"
        },
        "id": "MAjIUnEbAta1",
        "outputId": "32c4c1e9-5e26-4a42-a032-b94c36a2dd56"
      },
      "outputs": [
        {
          "output_type": "stream",
          "name": "stdout",
          "text": [
            "1/3\n"
          ]
        }
      ],
      "source": [
        "from sympy import*\n",
        "x,y =symbols(\"x y\")\n",
        "w1=integrate(x**2+y**2,(y,0,x),(x,0,1))\n",
        "print(w1)\n"
      ]
    },
    {
      "cell_type": "code",
      "source": [
        "from sympy import*\n",
        "x,y =symbols(\"x y\")\n",
        "w1=integrate(x*y,(y,x,sqrt(x)),(x,0,1))\n",
        "print(w1)"
      ],
      "metadata": {
        "colab": {
          "base_uri": "https://localhost:8080/"
        },
        "id": "Se9E3PZWE9Lk",
        "outputId": "64101750-5d1e-480c-d231-f3e75cef273b"
      },
      "execution_count": null,
      "outputs": [
        {
          "output_type": "stream",
          "name": "stdout",
          "text": [
            "1/24\n"
          ]
        }
      ]
    },
    {
      "cell_type": "code",
      "source": [
        "from sympy import*\n",
        "x,y =symbols(\"x y\")\n",
        "w1=integrate(x**2+y**2,(y,x,sqrt(x)),(x,0,1))\n",
        "print(w1)"
      ],
      "metadata": {
        "colab": {
          "base_uri": "https://localhost:8080/"
        },
        "id": "Eb7gUI2TFa9f",
        "outputId": "e0e027e2-8f69-47c8-f745-61e6fdab84d9"
      },
      "execution_count": null,
      "outputs": [
        {
          "output_type": "stream",
          "name": "stdout",
          "text": [
            "3/35\n"
          ]
        }
      ]
    },
    {
      "cell_type": "code",
      "source": [
        "from sympy import*\n",
        "x,y,z=symbols(\"x y z\")\n",
        "w3=integrate(x**2+y**2,y,x)\n",
        "pprint(w3)\n",
        "w4=integrate(x**2+y**2,x,y)\n",
        "pprint(w4)"
      ],
      "metadata": {
        "colab": {
          "base_uri": "https://localhost:8080/"
        },
        "id": "RcivsuquFkWd",
        "outputId": "c82d8747-4cf7-4361-d2e0-38484768b5f5"
      },
      "execution_count": null,
      "outputs": [
        {
          "output_type": "stream",
          "name": "stdout",
          "text": [
            " 3        3\n",
            "x ⋅y   x⋅y \n",
            "──── + ────\n",
            " 3      3  \n",
            " 3        3\n",
            "x ⋅y   x⋅y \n",
            "──── + ────\n",
            " 3      3  \n"
          ]
        }
      ]
    },
    {
      "cell_type": "code",
      "source": [
        "from sympy import*\n",
        "x,y,z=symbols(\"x y z\")\n",
        "w1=integrate(x*y*z,(z,0,3-x-y),(y,0,3-x),(x,0,3))\n",
        "print(w1)"
      ],
      "metadata": {
        "colab": {
          "base_uri": "https://localhost:8080/"
        },
        "id": "vXWb5S7pGHg2",
        "outputId": "b3675ff2-4bf4-4e35-df34-d275d6f79783"
      },
      "execution_count": null,
      "outputs": [
        {
          "output_type": "stream",
          "name": "stdout",
          "text": [
            "81/80\n"
          ]
        }
      ]
    },
    {
      "cell_type": "code",
      "source": [
        "from sympy import*\n",
        "x,y,z=symbols(\"x y z\")\n",
        "w1=integrate(x+y+z,(y,x-z,x+z),(x,0,z),(z,-1,1))\n",
        "print(w1)"
      ],
      "metadata": {
        "colab": {
          "base_uri": "https://localhost:8080/"
        },
        "id": "HUvquGXwGjYV",
        "outputId": "c754365b-d908-4512-8b57-abb450f1920f"
      },
      "execution_count": null,
      "outputs": [
        {
          "output_type": "stream",
          "name": "stdout",
          "text": [
            "0\n"
          ]
        }
      ]
    },
    {
      "cell_type": "markdown",
      "source": [
        "###Area and Volume\n"
      ],
      "metadata": {
        "id": "obdv5ZeIWv7G"
      }
    },
    {
      "cell_type": "code",
      "source": [
        "from sympy import *\n",
        "x,y=symbols(\"x y\")\n",
        "a=4\n",
        "b=6\n",
        "w3=4*integrate(1,(y,0,(b/a)*sqrt(a**2-x**2)),(x,0,a))\n",
        "pprint(w3)"
      ],
      "metadata": {
        "colab": {
          "base_uri": "https://localhost:8080/"
        },
        "id": "ou96SESVW8WT",
        "outputId": "e09b036b-bad4-4451-b435-c98cee617928"
      },
      "execution_count": null,
      "outputs": [
        {
          "output_type": "stream",
          "name": "stdout",
          "text": [
            "24.0⋅π\n"
          ]
        }
      ]
    },
    {
      "cell_type": "code",
      "source": [
        "from sympy import*\n",
        "r,t,a=symbols('r t a')\n",
        "w1=2*integrate(r,(r,0,a*(1+cos(t))),(t,0,pi))\n",
        "pprint(w1)"
      ],
      "metadata": {
        "colab": {
          "base_uri": "https://localhost:8080/"
        },
        "id": "WqSesIdQV9OK",
        "outputId": "c77623d6-2323-4c2c-af23-af79ed04391f"
      },
      "execution_count": null,
      "outputs": [
        {
          "output_type": "stream",
          "name": "stdout",
          "text": [
            "     2\n",
            "3⋅π⋅a \n",
            "──────\n",
            "  2   \n"
          ]
        }
      ]
    },
    {
      "cell_type": "code",
      "source": [
        "from sympy import*\n",
        "x,y,z,a,b,c=symbols('x y z a b c')\n",
        "# x,y,z=symbols('x y z')\n",
        "# a,b,c=symbols('a b c')\n",
        "w2=integrate(1,(z,0,c*(1-x/a-y/b)),(y,0,b*(1-x/a)),(x,0,a))\n",
        "pprint(w2)"
      ],
      "metadata": {
        "colab": {
          "base_uri": "https://localhost:8080/"
        },
        "id": "U_ryyhyeXhii",
        "outputId": "7afb154c-9c69-4c7b-dcd0-b3289525d93d"
      },
      "execution_count": null,
      "outputs": [
        {
          "output_type": "stream",
          "name": "stdout",
          "text": [
            "a⋅b⋅c\n",
            "─────\n",
            "  6  \n"
          ]
        }
      ]
    }
  ]
}